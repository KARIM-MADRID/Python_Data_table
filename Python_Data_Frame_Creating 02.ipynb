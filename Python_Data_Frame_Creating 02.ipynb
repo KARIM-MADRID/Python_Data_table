{
 "cells": [
  {
   "cell_type": "code",
   "execution_count": 1,
   "id": "37bbb9b9",
   "metadata": {},
   "outputs": [],
   "source": [
    "from bokeh.plotting import figure\n",
    "from bokeh.models import ColumnDataSource, TableColumn, DataTable\n",
    "from bokeh.io import show\n",
    "import pandas as pd"
   ]
  },
  {
   "cell_type": "code",
   "execution_count": 2,
   "id": "f942606c",
   "metadata": {},
   "outputs": [],
   "source": [
    "df = pd.DataFrame({\n",
    "    'SubjectID': ['Subject_01','Subject_02','Subject_03'],\n",
    "    'Result_1': ['Positive','Negative','Negative'],\n",
    "    'Result_2': ['Negative','Negative','Negative'],\n",
    "    'Result_3': ['Negative','Invalid','Positive'],\n",
    "    'Result_4': ['Positive','Negative','Negative'],\n",
    "    'Result_5': ['Positive','Positive','Negative']\n",
    "})\n",
    "  \n",
    "source = ColumnDataSource(df)"
   ]
  },
  {
   "cell_type": "code",
   "execution_count": 3,
   "id": "0d33bc62",
   "metadata": {},
   "outputs": [],
   "source": [
    "#€columns = [\n",
    "    TableColumn(field='SubjectID', title='SubjectID'),\n",
    "    TableColumn(field='Result_1', title='Result 1'),\n",
    "    TableColumn(field='Result_2', title='Result 2'),\n",
    "    TableColumn(field='Result_3', title='Result 3'),\n",
    "    TableColumn(field='Result_4', title='Result 4'),\n",
    "    TableColumn(field='Result_5', title='Result 5')\n",
    "    ]\n",
    "\n",
    "myTable = DataTable(source=source, columns=columns)\n",
    "\n",
    "show(myTable)"
   ]
  },
  {
   "cell_type": "code",
   "execution_count": 6,
   "id": "18dfb766",
   "metadata": {},
   "outputs": [
    {
     "ename": "SyntaxError",
     "evalue": "invalid syntax (Temp/ipykernel_66964/3165986394.py, line 3)",
     "output_type": "error",
     "traceback": [
      "\u001b[1;36m  File \u001b[1;32m\"C:\\Users\\ibast\\AppData\\Local\\Temp/ipykernel_66964/3165986394.py\"\u001b[1;36m, line \u001b[1;32m3\u001b[0m\n\u001b[1;33m    form bokeh.models import HTMLTemplateFormatter\u001b[0m\n\u001b[1;37m         ^\u001b[0m\n\u001b[1;31mSyntaxError\u001b[0m\u001b[1;31m:\u001b[0m invalid syntax\n"
     ]
    }
   ],
   "source": [
    "source = ColumnDataSource(df)\n",
    "\n",
    "form bokeh.models import HTMLTemplateFormatter\n",
    "\n",
    "def get_html_formatter(my_col):\n",
    "    template = \"\"\"\n",
    "        <div style=\"background:<%= \n",
    "            (function colorfromint(){\n",
    "                if(result_col == 'Positive'){\n",
    "                    return('#f14e08')}\n",
    "                else if (result_col == 'Negative')\n",
    "                    {return('#8a9f42')}\n",
    "                else if (result_col == 'Invalid')\n",
    "                    {return('#8f6b31')}\n",
    "                }()) %>; \n",
    "            color: white\"> \n",
    "        <%= value %>\n",
    "        </div>\n",
    "    \"\"\".replace('result_col',my_col)\n",
    "    \n",
    "    return HTMLTemplateFormatter(template=template)\n",
    "\n",
    "columns = [\n",
    "    TableColumn(field='SubjectID', title='SubjectID'),\n",
    "    TableColumn(field='Result_1', title='Result 1', formatter=get_html_formatter('Result_1')),\n",
    "    TableColumn(field='Result_2', title='Result 2', formatter=get_html_formatter('Result_2')),\n",
    "    TableColumn(field='Result_3', title='Result 3', formatter=get_html_formatter('Result_3')),\n",
    "    TableColumn(field='Result_4', title='Result 4', formatter=get_html_formatter('Result_4')),\n",
    "    TableColumn(field='Result_5', title='Result 5', formatter=get_html_formatter('Result_5'))\n",
    "    ]\n",
    "\n",
    "myTable = DataTable(source=source, columns=columns)\n",
    "\n",
    "show(myTable)"
   ]
  },
  {
   "cell_type": "code",
   "execution_count": null,
   "id": "1f71d42e",
   "metadata": {},
   "outputs": [],
   "source": []
  },
  {
   "cell_type": "code",
   "execution_count": null,
   "id": "36eaad52",
   "metadata": {},
   "outputs": [],
   "source": []
  }
 ],
 "metadata": {
  "kernelspec": {
   "display_name": "Python 3 (ipykernel)",
   "language": "python",
   "name": "python3"
  },
  "language_info": {
   "codemirror_mode": {
    "name": "ipython",
    "version": 3
   },
   "file_extension": ".py",
   "mimetype": "text/x-python",
   "name": "python",
   "nbconvert_exporter": "python",
   "pygments_lexer": "ipython3",
   "version": "3.9.7"
  }
 },
 "nbformat": 4,
 "nbformat_minor": 5
}

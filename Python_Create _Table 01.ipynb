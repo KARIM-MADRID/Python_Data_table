{
 "cells": [
  {
   "cell_type": "markdown",
   "id": "da2ee299",
   "metadata": {},
   "source": [
    "# DATA TABLE TUTORIAL\n",
    "AN ALTERNATIVE TO PANDA OR SFRAME"
   ]
  },
  {
   "cell_type": "code",
   "execution_count": 1,
   "id": "41d55929",
   "metadata": {},
   "outputs": [
    {
     "name": "stdout",
     "output_type": "stream",
     "text": [
      "Requirement already satisfied: datatable in c:\\users\\ibast\\anaconda3\\lib\\site-packages (1.0.0)\n"
     ]
    }
   ],
   "source": [
    "!pip install datatable"
   ]
  },
  {
   "cell_type": "code",
   "execution_count": 2,
   "id": "a1112ea1",
   "metadata": {},
   "outputs": [
    {
     "data": {
      "text/html": [
       "<style type='text/css'>\n",
       ".datatable table.frame { margin-bottom: 0; }\n",
       ".datatable table.frame thead { border-bottom: none; }\n",
       ".datatable table.frame tr.coltypes td {  color: #FFFFFF;  line-height: 6px;  padding: 0 0.5em;}\n",
       ".datatable .bool    { background: #DDDD99; }\n",
       ".datatable .object  { background: #565656; }\n",
       ".datatable .int     { background: #5D9E5D; }\n",
       ".datatable .float   { background: #4040CC; }\n",
       ".datatable .str     { background: #CC4040; }\n",
       ".datatable .time    { background: #40CC40; }\n",
       ".datatable .row_index {  background: var(--jp-border-color3);  border-right: 1px solid var(--jp-border-color0);  color: var(--jp-ui-font-color3);  font-size: 9px;}\n",
       ".datatable .frame tbody td { text-align: left; }\n",
       ".datatable .frame tr.coltypes .row_index {  background: var(--jp-border-color0);}\n",
       ".datatable th:nth-child(2) { padding-left: 12px; }\n",
       ".datatable .hellipsis {  color: var(--jp-cell-editor-border-color);}\n",
       ".datatable .vellipsis {  background: var(--jp-layout-color0);  color: var(--jp-cell-editor-border-color);}\n",
       ".datatable .na {  color: var(--jp-cell-editor-border-color);  font-size: 80%;}\n",
       ".datatable .sp {  opacity: 0.25;}\n",
       ".datatable .footer { font-size: 9px; }\n",
       ".datatable .frame_dimensions {  background: var(--jp-border-color3);  border-top: 1px solid var(--jp-border-color0);  color: var(--jp-ui-font-color3);  display: inline-block;  opacity: 0.6;  padding: 1px 10px 1px 5px;}\n",
       "</style>\n"
      ],
      "text/plain": [
       "<IPython.core.display.HTML object>"
      ]
     },
     "metadata": {},
     "output_type": "display_data"
    }
   ],
   "source": [
    "#load EDA Pkgs\n",
    "import datatable as dt"
   ]
  },
  {
   "cell_type": "code",
   "execution_count": 3,
   "id": "3b0de6c5",
   "metadata": {},
   "outputs": [
    {
     "data": {
      "text/plain": [
       "['FExpr',\n",
       " 'Frame',\n",
       " 'Namespace',\n",
       " 'Type',\n",
       " '__all__',\n",
       " '__builtins__',\n",
       " '__cached__',\n",
       " '__doc__',\n",
       " '__file__',\n",
       " '__loader__',\n",
       " '__name__',\n",
       " '__package__',\n",
       " '__path__',\n",
       " '__spec__',\n",
       " '__version__',\n",
       " '_build_info',\n",
       " 'abs',\n",
       " 'as_type',\n",
       " 'bool8',\n",
       " 'build_info',\n",
       " 'by',\n",
       " 'cbind',\n",
       " 'corr',\n",
       " 'count',\n",
       " 'cov',\n",
       " 'cut',\n",
       " 'dt',\n",
       " 'exceptions',\n",
       " 'exp',\n",
       " 'expr',\n",
       " 'f',\n",
       " 'first',\n",
       " 'float32',\n",
       " 'float64',\n",
       " 'frame',\n",
       " 'fread',\n",
       " 'g',\n",
       " 'ifelse',\n",
       " 'init_styles',\n",
       " 'int16',\n",
       " 'int32',\n",
       " 'int64',\n",
       " 'int8',\n",
       " 'internal',\n",
       " 'intersect',\n",
       " 'iread',\n",
       " 'isna',\n",
       " 'join',\n",
       " 'last',\n",
       " 'lib',\n",
       " 'log',\n",
       " 'log10',\n",
       " 'ltype',\n",
       " 'math',\n",
       " 'max',\n",
       " 'mean',\n",
       " 'median',\n",
       " 'min',\n",
       " 'obj64',\n",
       " 'options',\n",
       " 'qcut',\n",
       " 'rbind',\n",
       " 're',\n",
       " 'repeat',\n",
       " 'rowall',\n",
       " 'rowany',\n",
       " 'rowcount',\n",
       " 'rowfirst',\n",
       " 'rowlast',\n",
       " 'rowmax',\n",
       " 'rowmean',\n",
       " 'rowmin',\n",
       " 'rowsd',\n",
       " 'rowsum',\n",
       " 'sd',\n",
       " 'setdiff',\n",
       " 'shift',\n",
       " 'sort',\n",
       " 'split_into_nhot',\n",
       " 'str',\n",
       " 'str32',\n",
       " 'str64',\n",
       " 'stype',\n",
       " 'sum',\n",
       " 'symdiff',\n",
       " 'time',\n",
       " 'types',\n",
       " 'union',\n",
       " 'unique',\n",
       " 'update']"
      ]
     },
     "execution_count": 3,
     "metadata": {},
     "output_type": "execute_result"
    }
   ],
   "source": [
    "#method dt\n",
    "dir(dt)"
   ]
  },
  {
   "cell_type": "code",
   "execution_count": 4,
   "id": "4bdf8bbe",
   "metadata": {},
   "outputs": [
    {
     "name": "stdout",
     "output_type": "stream",
     "text": [
      "Requirement already satisfied: prettyTable in c:\\users\\ibast\\anaconda3\\lib\\site-packages (3.3.0)\n",
      "Requirement already satisfied: wcwidth in c:\\users\\ibast\\anaconda3\\lib\\site-packages (from prettyTable) (0.2.5)\n"
     ]
    }
   ],
   "source": [
    "!pip install prettyTable"
   ]
  },
  {
   "cell_type": "code",
   "execution_count": 9,
   "id": "8718a164",
   "metadata": {},
   "outputs": [],
   "source": [
    "from prettytable import PrettyTable"
   ]
  },
  {
   "cell_type": "code",
   "execution_count": 11,
   "id": "973a1056",
   "metadata": {},
   "outputs": [],
   "source": [
    "columns=[\"STUDENT NAME\",\"ROLL NO\",\"TOTAL NUM\",\"PLACE\"]\n",
    "mytable=PrettyTable()\n",
    "mytable.add_column(columns[0],[\"Hanry\",\"John\",\"Mary\",\"Jenifer\",\"Batman\",\"Superman\",\"Spiderman\"])\n",
    "mytable.add_column(columns[1],[1,2,3,4,5,6,7])\n",
    "mytable.add_column(columns[2],[95,92,90,89,87,86,85])\n",
    "mytable.add_column(columns[3],[\"First\",\"Second\",\"Third\",\"Fourth\",\"Fifth\",\"SIxth\",\"Seventh\"])\n",
    "\n"
   ]
  },
  {
   "cell_type": "code",
   "execution_count": 12,
   "id": "3cd7e852",
   "metadata": {},
   "outputs": [
    {
     "data": {
      "text/html": [
       "<table>\n",
       "    <thead>\n",
       "        <tr>\n",
       "            <th>STUDENT NAME</th>\n",
       "            <th>ROLL NO</th>\n",
       "            <th>TOTAL NUM</th>\n",
       "            <th>PLACE</th>\n",
       "        </tr>\n",
       "    </thead>\n",
       "    <tbody>\n",
       "        <tr>\n",
       "            <td>Hanry</td>\n",
       "            <td>1</td>\n",
       "            <td>95</td>\n",
       "            <td>First</td>\n",
       "        </tr>\n",
       "        <tr>\n",
       "            <td>John</td>\n",
       "            <td>2</td>\n",
       "            <td>92</td>\n",
       "            <td>Second</td>\n",
       "        </tr>\n",
       "        <tr>\n",
       "            <td>Mary</td>\n",
       "            <td>3</td>\n",
       "            <td>90</td>\n",
       "            <td>Third</td>\n",
       "        </tr>\n",
       "        <tr>\n",
       "            <td>Jenifer</td>\n",
       "            <td>4</td>\n",
       "            <td>89</td>\n",
       "            <td>Fourth</td>\n",
       "        </tr>\n",
       "        <tr>\n",
       "            <td>Batman</td>\n",
       "            <td>5</td>\n",
       "            <td>87</td>\n",
       "            <td>Fifth</td>\n",
       "        </tr>\n",
       "        <tr>\n",
       "            <td>Superman</td>\n",
       "            <td>6</td>\n",
       "            <td>86</td>\n",
       "            <td>SIxth</td>\n",
       "        </tr>\n",
       "        <tr>\n",
       "            <td>Spiderman</td>\n",
       "            <td>7</td>\n",
       "            <td>85</td>\n",
       "            <td>Seventh</td>\n",
       "        </tr>\n",
       "    </tbody>\n",
       "</table>"
      ],
      "text/plain": [
       "+--------------+---------+-----------+---------+\n",
       "| STUDENT NAME | ROLL NO | TOTAL NUM |  PLACE  |\n",
       "+--------------+---------+-----------+---------+\n",
       "|    Hanry     |    1    |     95    |  First  |\n",
       "|     John     |    2    |     92    |  Second |\n",
       "|     Mary     |    3    |     90    |  Third  |\n",
       "|   Jenifer    |    4    |     89    |  Fourth |\n",
       "|    Batman    |    5    |     87    |  Fifth  |\n",
       "|   Superman   |    6    |     86    |  SIxth  |\n",
       "|  Spiderman   |    7    |     85    | Seventh |\n",
       "+--------------+---------+-----------+---------+"
      ]
     },
     "execution_count": 12,
     "metadata": {},
     "output_type": "execute_result"
    }
   ],
   "source": [
    "mytable"
   ]
  },
  {
   "cell_type": "code",
   "execution_count": null,
   "id": "2e42e5e2",
   "metadata": {},
   "outputs": [],
   "source": []
  }
 ],
 "metadata": {
  "kernelspec": {
   "display_name": "Python 3 (ipykernel)",
   "language": "python",
   "name": "python3"
  },
  "language_info": {
   "codemirror_mode": {
    "name": "ipython",
    "version": 3
   },
   "file_extension": ".py",
   "mimetype": "text/x-python",
   "name": "python",
   "nbconvert_exporter": "python",
   "pygments_lexer": "ipython3",
   "version": "3.9.7"
  }
 },
 "nbformat": 4,
 "nbformat_minor": 5
}
